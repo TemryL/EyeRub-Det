{
 "cells": [
  {
   "cell_type": "markdown",
   "metadata": {},
   "source": [
    "# Imports"
   ]
  },
  {
   "cell_type": "code",
   "execution_count": 1,
   "metadata": {},
   "outputs": [],
   "source": [
    "import numpy as np\n",
    "\n",
    "from scipy.stats import skew, kurtosis\n",
    "from sklearn.metrics import f1_score\n",
    "from sklearn.ensemble import RandomForestClassifier\n",
    "from sklearn.neighbors import KNeighborsClassifier\n",
    "from src.datasets.supervised_dataset import SupervisedDataset\n",
    "from src.models.label_encoder import LabelEncoder"
   ]
  },
  {
   "cell_type": "markdown",
   "metadata": {},
   "source": [
    "# Load Data"
   ]
  },
  {
   "cell_type": "code",
   "execution_count": 2,
   "metadata": {},
   "outputs": [],
   "source": [
    "train_path = 'data/supervised/train'\n",
    "val_path = 'data/supervised/val'\n",
    "\n",
    "features = ['accelerometerAccelerationX(G)', \n",
    "            'accelerometerAccelerationY(G)',\n",
    "            'accelerometerAccelerationZ(G)', \n",
    "            'motionYaw(rad)', \n",
    "            'motionRoll(rad)',\n",
    "            'motionPitch(rad)', \n",
    "            'motionRotationRateX(rad/s)',\n",
    "            'motionRotationRateY(rad/s)', \n",
    "            'motionRotationRateZ(rad/s)',\n",
    "            'motionUserAccelerationX(G)', \n",
    "            'motionUserAccelerationY(G)',\n",
    "            'motionUserAccelerationZ(G)', \n",
    "            'motionQuaternionX(R)',\n",
    "            'motionQuaternionY(R)', \n",
    "            'motionQuaternionZ(R)', \n",
    "            'motionQuaternionW(R)',\n",
    "            'motionGravityX(G)', \n",
    "            'motionGravityY(G)', \n",
    "            'motionGravityZ(G)'\n",
    "]\n",
    "\n",
    "label_encoder = LabelEncoder()\n",
    "train_data = SupervisedDataset(train_path, features, label_encoder, normalize=False)\n",
    "val_data = SupervisedDataset(val_path, features, label_encoder, normalize=False)"
   ]
  },
  {
   "cell_type": "markdown",
   "metadata": {},
   "source": [
    "# Compute Features"
   ]
  },
  {
   "cell_type": "code",
   "execution_count": 3,
   "metadata": {},
   "outputs": [],
   "source": [
    "def compute_features(dataset):\n",
    "    X = []\n",
    "    y = []\n",
    "    \n",
    "    for sequence, label in dataset:\n",
    "        # Compute the statistics for each column\n",
    "        _min = np.min(sequence.numpy(), axis=0)\n",
    "        _max = np.max(sequence.numpy(), axis=0)\n",
    "        _std = np.std(sequence.numpy(), axis=0)\n",
    "        _mean = np.mean(sequence.numpy(), axis=0)\n",
    "        _skew = skew(sequence.numpy(), axis=0)\n",
    "        _kurtosis = kurtosis(sequence.numpy(), axis=0)\n",
    "        feats = np.concatenate((_min, _max, _std, _mean, _skew, _kurtosis)).reshape(1, -1)\n",
    "        X.append(feats)\n",
    "        y.append(label.item())\n",
    "    \n",
    "    return np.concatenate(X), np.array(y)"
   ]
  },
  {
   "cell_type": "code",
   "execution_count": 4,
   "metadata": {},
   "outputs": [],
   "source": [
    "X_train, y_train = compute_features(train_data)\n",
    "X_val, y_val = compute_features(val_data)"
   ]
  },
  {
   "cell_type": "markdown",
   "metadata": {},
   "source": [
    "# KNN"
   ]
  },
  {
   "cell_type": "code",
   "execution_count": 26,
   "metadata": {},
   "outputs": [
    {
     "name": "stdout",
     "output_type": "stream",
     "text": [
      "F1-Score: 0.42\n"
     ]
    }
   ],
   "source": [
    "k = 5\n",
    "knn = KNeighborsClassifier(n_neighbors=k)\n",
    "knn.fit(X_train, y_train)\n",
    "\n",
    "y_pred = knn.predict(X_val)\n",
    "f1 = f1_score(y_val, y_pred, average = 'macro')\n",
    "print('F1-Score: {:.2f}'.format(f1))"
   ]
  },
  {
   "cell_type": "markdown",
   "metadata": {},
   "source": [
    "# Random Forest"
   ]
  },
  {
   "cell_type": "code",
   "execution_count": 27,
   "metadata": {},
   "outputs": [
    {
     "name": "stdout",
     "output_type": "stream",
     "text": [
      "F1-Score: 0.54\n"
     ]
    }
   ],
   "source": [
    "n_estimators = 141\n",
    "max_depth = 16\n",
    "seed = 42\n",
    "\n",
    "random_forest = RandomForestClassifier(n_estimators=n_estimators, \n",
    "                                    max_depth=max_depth, \n",
    "                                    random_state=seed)\n",
    "random_forest.fit(X_train, y_train)\n",
    "\n",
    "y_pred = random_forest.predict(X_val)\n",
    "f1 = f1_score(y_val, y_pred, average = 'macro')\n",
    "print('F1-Score: {:.2f}'.format(f1))"
   ]
  },
  {
   "cell_type": "markdown",
   "metadata": {},
   "source": [
    "# SVM"
   ]
  },
  {
   "cell_type": "code",
   "execution_count": 28,
   "metadata": {},
   "outputs": [
    {
     "name": "stdout",
     "output_type": "stream",
     "text": [
      "F1-Score: 0.54\n"
     ]
    }
   ],
   "source": [
    "from sklearn.pipeline import make_pipeline\n",
    "from sklearn.preprocessing import StandardScaler\n",
    "from sklearn.svm import SVC\n",
    "\n",
    "svc = make_pipeline(StandardScaler(), SVC(gamma='auto'))\n",
    "svc.fit(X_train, y_train)\n",
    "\n",
    "y_pred = svc.predict(X_val)\n",
    "f1 = f1_score(y_val, y_pred, average = 'macro')\n",
    "print('F1-Score: {:.2f}'.format(f1))"
   ]
  }
 ],
 "metadata": {
  "kernelspec": {
   "display_name": "hfi_ml",
   "language": "python",
   "name": "python3"
  },
  "language_info": {
   "codemirror_mode": {
    "name": "ipython",
    "version": 3
   },
   "file_extension": ".py",
   "mimetype": "text/x-python",
   "name": "python",
   "nbconvert_exporter": "python",
   "pygments_lexer": "ipython3",
   "version": "3.10.8"
  },
  "orig_nbformat": 4
 },
 "nbformat": 4,
 "nbformat_minor": 2
}
