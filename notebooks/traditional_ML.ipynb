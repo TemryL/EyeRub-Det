{
 "cells": [
  {
   "cell_type": "markdown",
   "metadata": {},
   "source": [
    "# Imports"
   ]
  },
  {
   "cell_type": "code",
   "execution_count": 64,
   "metadata": {},
   "outputs": [],
   "source": [
    "import sys\n",
    "sys.path.append('.')\n",
    "sys.path.append('..')\n",
    "\n",
    "import scipy\n",
    "import numpy as np\n",
    "from tqdm import tqdm\n",
    "from scipy.special import softmax\n",
    "from scipy.stats import skew, kurtosis\n",
    "from sklearn.metrics import f1_score\n",
    "from sklearn.metrics import roc_auc_score\n",
    "from sklearn.svm import SVC\n",
    "from sklearn.ensemble import RandomForestClassifier\n",
    "from sklearn.neighbors import KNeighborsClassifier\n",
    "from sklearn.pipeline import make_pipeline\n",
    "from sklearn.preprocessing import StandardScaler\n",
    "from src.datasets.supervised_dataset import SupervisedDataset\n",
    "from src.models.label_encoder import LabelEncoder"
   ]
  },
  {
   "cell_type": "code",
   "execution_count": 48,
   "metadata": {},
   "outputs": [],
   "source": [
    "data_dir = '../data/'\n",
    "features = ['accelerometerAccelerationX(G)', \n",
    "            'accelerometerAccelerationY(G)',\n",
    "            'accelerometerAccelerationZ(G)', \n",
    "            'motionYaw(rad)', \n",
    "            'motionRoll(rad)',\n",
    "            'motionPitch(rad)', \n",
    "            'motionRotationRateX(rad/s)',\n",
    "            'motionRotationRateY(rad/s)', \n",
    "            'motionRotationRateZ(rad/s)',\n",
    "            'motionUserAccelerationX(G)', \n",
    "            'motionUserAccelerationY(G)',\n",
    "            'motionUserAccelerationZ(G)', \n",
    "            'motionQuaternionX(R)',\n",
    "            'motionQuaternionY(R)', \n",
    "            'motionQuaternionZ(R)', \n",
    "            'motionQuaternionW(R)',\n",
    "            'motionGravityX(G)', \n",
    "            'motionGravityY(G)', \n",
    "            'motionGravityZ(G)'\n",
    "]"
   ]
  },
  {
   "cell_type": "markdown",
   "metadata": {},
   "source": [
    "# Compute Features"
   ]
  },
  {
   "cell_type": "code",
   "execution_count": 49,
   "metadata": {},
   "outputs": [],
   "source": [
    "def compute_features(dataset):\n",
    "    X = []\n",
    "    y = []\n",
    "    \n",
    "    for sequence, label in dataset:\n",
    "        # Compute the statistics for each column\n",
    "        _min = np.min(sequence.numpy(), axis=0)\n",
    "        _max = np.max(sequence.numpy(), axis=0)\n",
    "        _std = np.std(sequence.numpy(), axis=0)\n",
    "        _mean = np.mean(sequence.numpy(), axis=0)\n",
    "        _skew = skew(sequence.numpy(), axis=0)\n",
    "        _kurtosis = kurtosis(sequence.numpy(), axis=0)\n",
    "        feats = np.concatenate((_min, _max, _std, _mean, _skew, _kurtosis)).reshape(1, -1)\n",
    "        X.append(feats)\n",
    "        y.append(label.item())\n",
    "    \n",
    "    return np.concatenate(X), np.array(y)"
   ]
  },
  {
   "cell_type": "markdown",
   "metadata": {},
   "source": [
    "# Evaluate"
   ]
  },
  {
   "cell_type": "code",
   "execution_count": 50,
   "metadata": {},
   "outputs": [],
   "source": [
    "def evaluate(y_true, y_pred, probs):\n",
    "    f1 = f1_score(y_true, y_pred, average = 'macro')\n",
    "    roc_auc_ovr = roc_auc_score(y_true, probs, multi_class='ovr')\n",
    "    roc_auc_ovo = roc_auc_score(y_true, probs, multi_class='ovo')\n",
    "    return f1, roc_auc_ovr, roc_auc_ovo"
   ]
  },
  {
   "cell_type": "markdown",
   "metadata": {},
   "source": [
    "# KNN"
   ]
  },
  {
   "cell_type": "code",
   "execution_count": 51,
   "metadata": {},
   "outputs": [],
   "source": [
    "k = 5\n",
    "knn = KNeighborsClassifier(n_neighbors=k)"
   ]
  },
  {
   "cell_type": "markdown",
   "metadata": {},
   "source": [
    "# Random Forest"
   ]
  },
  {
   "cell_type": "code",
   "execution_count": 52,
   "metadata": {},
   "outputs": [],
   "source": [
    "n_estimators = 141\n",
    "max_depth = 16\n",
    "seed = 42\n",
    "\n",
    "random_forest = RandomForestClassifier(n_estimators=n_estimators, \n",
    "                                    max_depth=max_depth, \n",
    "                                    random_state=seed)"
   ]
  },
  {
   "cell_type": "markdown",
   "metadata": {},
   "source": [
    "# SVM"
   ]
  },
  {
   "cell_type": "code",
   "execution_count": 53,
   "metadata": {},
   "outputs": [],
   "source": [
    "svc = make_pipeline(StandardScaler(), SVC(gamma='auto'))"
   ]
  },
  {
   "cell_type": "markdown",
   "metadata": {},
   "source": [
    "# LOOCV"
   ]
  },
  {
   "cell_type": "code",
   "execution_count": 59,
   "metadata": {},
   "outputs": [
    {
     "name": "stdout",
     "output_type": "stream",
     "text": [
      "[(['user50', 'user59', 'user57', 'user53', 'user55', 'user56'], ['user54', 'user52', 'user60', 'user58'], ['user51']), (['user50', 'user54', 'user51', 'user55', 'user60', 'user58'], ['user53', 'user56', 'user57', 'user59'], ['user52']), (['user50', 'user54', 'user51', 'user55', 'user60', 'user58'], ['user57', 'user59', 'user56', 'user52'], ['user53']), (['user50', 'user59', 'user58', 'user60', 'user53', 'user51'], ['user56', 'user55', 'user57', 'user52'], ['user54']), (['user50', 'user52', 'user58', 'user57', 'user51', 'user53'], ['user56', 'user60', 'user59', 'user54'], ['user55']), (['user50', 'user53', 'user55', 'user60', 'user54', 'user51'], ['user59', 'user57', 'user58', 'user52'], ['user56']), (['user50', 'user53', 'user54', 'user51', 'user60', 'user58'], ['user55', 'user59', 'user52', 'user56'], ['user57']), (['user50', 'user56', 'user57', 'user59', 'user51', 'user54'], ['user55', 'user53', 'user60', 'user52'], ['user58']), (['user50', 'user54', 'user51', 'user58', 'user53', 'user60'], ['user55', 'user57', 'user56', 'user52'], ['user59']), (['user50', 'user54', 'user59', 'user51', 'user58', 'user53'], ['user52', 'user55', 'user56', 'user57'], ['user60'])]\n"
     ]
    }
   ],
   "source": [
    "import random\n",
    "\n",
    "def user_splits(seed=42):\n",
    "    random.seed(seed)\n",
    "    \n",
    "    # List of users excluding user50 since it will always be in the training set\n",
    "    users = [\"user51\", \"user52\", \"user53\", \"user54\", \"user55\", \"user56\", \"user57\", \"user58\", \"user59\", \"user60\"]\n",
    "    splits = []\n",
    "    \n",
    "    # Loop over each user to be used as the test user\n",
    "    for test_user in users:\n",
    "        remaining_users = [user for user in users if user != test_user]\n",
    "        # Shuffle the remaining users for random splits\n",
    "        random.shuffle(remaining_users)\n",
    "        # First 6 users (including user50) for training, next 4 for validation\n",
    "        train_users = ['user50'] + remaining_users[:5]\n",
    "        val_users = remaining_users[5:9]\n",
    "        splits.append((train_users, val_users, [test_user]))\n",
    "    return splits\n",
    "\n",
    "print(user_splits(seed=0))"
   ]
  },
  {
   "cell_type": "code",
   "execution_count": 60,
   "metadata": {},
   "outputs": [
    {
     "name": "stderr",
     "output_type": "stream",
     "text": [
      "100%|██████████| 10/10 [01:53<00:00, 11.36s/it]\n"
     ]
    }
   ],
   "source": [
    "knn_results = {'f1': [], 'auc_ovr': [], 'auc_ovo': []}\n",
    "random_forest_results = {'f1': [], 'auc_ovr': [], 'auc_ovo': []}\n",
    "svm_results = {'f1': [], 'auc_ovr': [], 'auc_ovo': []}\n",
    "\n",
    "for train_users, _, test_users in tqdm(user_splits(seed=0)):\n",
    "    # Load data:\n",
    "    label_encoder = LabelEncoder()\n",
    "    train_data = SupervisedDataset(data_dir, train_users, features, label_encoder, normalize=False)\n",
    "    test_data = SupervisedDataset(data_dir, test_users, features, label_encoder, normalize=False)\n",
    "\n",
    "    X_train, y_train = compute_features(train_data)\n",
    "    X_test, y_test = compute_features(test_data)\n",
    "\n",
    "    # KNN:\n",
    "    knn.fit(X_train, y_train)\n",
    "    y_pred = knn.predict(X_test)\n",
    "    probs = knn.predict_proba(X_test)\n",
    "    f1, roc_auc_ovr, roc_auc_ovo = evaluate(y_test, y_pred, probs)\n",
    "    knn_results['f1'].append(f1)\n",
    "    knn_results['auc_ovr'].append(roc_auc_ovr)\n",
    "    knn_results['auc_ovo'].append(roc_auc_ovo)\n",
    "\n",
    "    # Random Forest:\n",
    "    random_forest.fit(X_train, y_train)\n",
    "    y_pred = random_forest.predict(X_test)\n",
    "    probs = random_forest.predict_proba(X_test)\n",
    "    f1, roc_auc_ovr, roc_auc_ovo = evaluate(y_test, y_pred, probs)\n",
    "    random_forest_results['f1'].append(f1)\n",
    "    random_forest_results['auc_ovr'].append(roc_auc_ovr)\n",
    "    random_forest_results['auc_ovo'].append(roc_auc_ovo)\n",
    "\n",
    "    # SVM:\n",
    "    svc.fit(X_train, y_train)\n",
    "    y_pred = svc.predict(X_test)\n",
    "    probs = svc.decision_function(X_test)\n",
    "    probs = softmax(probs, axis=1)\n",
    "    f1, roc_auc_ovr, roc_auc_ovo = evaluate(y_test, y_pred, probs)\n",
    "    svm_results['f1'].append(f1)\n",
    "    svm_results['auc_ovr'].append(roc_auc_ovr)\n",
    "    svm_results['auc_ovo'].append(roc_auc_ovo)"
   ]
  },
  {
   "cell_type": "markdown",
   "metadata": {},
   "source": [
    "# Results"
   ]
  },
  {
   "cell_type": "code",
   "execution_count": 62,
   "metadata": {},
   "outputs": [],
   "source": [
    "def mean_confidence_interval(data, confidence=0.95):\n",
    "    a = 1.0 * np.array(data)\n",
    "    n = len(a)\n",
    "    m, se = np.mean(a), scipy.stats.sem(a)\n",
    "    h = se * scipy.stats.t.ppf((1 + confidence) / 2., n-1)\n",
    "    return m, m-h, m+h\n",
    "\n",
    "def print_results(method_name, results):\n",
    "    mean, low, high = mean_confidence_interval(results['f1'])\n",
    "    print(\"{} F1: {:.2f} ({:.2f}-{:.2f})\".format(method_name, mean, low, high))\n",
    "\n",
    "    mean, low, high = mean_confidence_interval(results['auc_ovr'])\n",
    "    print(\"{} AUC (OVR): {:.2f} ({:.2f}-{:.2f})\".format(method_name, mean, low, high))\n",
    "\n",
    "    mean, low, high = mean_confidence_interval(results['auc_ovo'])\n",
    "    print(\"{} AUC (OV0): {:.2f} ({:.2f}-{:.2f})\".format(method_name, mean, low, high))"
   ]
  },
  {
   "cell_type": "markdown",
   "metadata": {},
   "source": [
    "### KNN"
   ]
  },
  {
   "cell_type": "code",
   "execution_count": 66,
   "metadata": {},
   "outputs": [
    {
     "name": "stdout",
     "output_type": "stream",
     "text": [
      "KNN F1: 0.42 (0.37-0.48)\n",
      "KNN AUC (OVR): 0.72 (0.68-0.77)\n",
      "KNN AUC (OV0): 0.72 (0.68-0.77)\n"
     ]
    }
   ],
   "source": [
    "print_results('KNN', knn_results)"
   ]
  },
  {
   "cell_type": "markdown",
   "metadata": {},
   "source": [
    "### Random Forest"
   ]
  },
  {
   "cell_type": "code",
   "execution_count": 67,
   "metadata": {},
   "outputs": [
    {
     "name": "stdout",
     "output_type": "stream",
     "text": [
      "Random Forest F1: 0.52 (0.43-0.61)\n",
      "Random Forest AUC (OVR): 0.85 (0.82-0.88)\n",
      "Random Forest AUC (OV0): 0.85 (0.82-0.88)\n"
     ]
    }
   ],
   "source": [
    "print_results('Random Forest', random_forest_results)"
   ]
  },
  {
   "cell_type": "markdown",
   "metadata": {},
   "source": [
    "### SVM"
   ]
  },
  {
   "cell_type": "code",
   "execution_count": 68,
   "metadata": {},
   "outputs": [
    {
     "name": "stdout",
     "output_type": "stream",
     "text": [
      "SVM F1: 0.50 (0.42-0.57)\n",
      "SVM AUC (OVR): 0.83 (0.80-0.87)\n",
      "SVM AUC (OV0): 0.83 (0.80-0.87)\n"
     ]
    }
   ],
   "source": [
    "print_results('SVM', svm_results)"
   ]
  }
 ],
 "metadata": {
  "kernelspec": {
   "display_name": "hfi_ml",
   "language": "python",
   "name": "python3"
  },
  "language_info": {
   "codemirror_mode": {
    "name": "ipython",
    "version": 3
   },
   "file_extension": ".py",
   "mimetype": "text/x-python",
   "name": "python",
   "nbconvert_exporter": "python",
   "pygments_lexer": "ipython3",
   "version": "3.10.14"
  },
  "orig_nbformat": 4
 },
 "nbformat": 4,
 "nbformat_minor": 2
}
